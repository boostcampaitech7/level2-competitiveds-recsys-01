{
 "cells": [
  {
   "cell_type": "markdown",
   "metadata": {},
   "source": [
    "# 라이브러리 불러오기"
   ]
  },
  {
   "cell_type": "code",
   "execution_count": 38,
   "metadata": {},
   "outputs": [],
   "source": [
    "import os\n",
    "import pandas as pd\n",
    "import numpy as np\n",
    "import matplotlib.pyplot as plt\n",
    "import seaborn as sns"
   ]
  },
  {
   "cell_type": "markdown",
   "metadata": {},
   "source": [
    "# 랜덤 시드 설정"
   ]
  },
  {
   "cell_type": "code",
   "execution_count": 39,
   "metadata": {},
   "outputs": [],
   "source": [
    "RANDOM_SEED = 42\n",
    "np.random.seed(RANDOM_SEED)"
   ]
  },
  {
   "cell_type": "markdown",
   "metadata": {},
   "source": [
    "# 데이터 불러오기"
   ]
  },
  {
   "cell_type": "code",
   "execution_count": 40,
   "metadata": {},
   "outputs": [],
   "source": [
    "train_data = pd.read_csv('../data/train.csv')\n",
    "test_data = pd.read_csv('../data/test.csv')\n",
    "sample_submission = pd.read_csv('../data/sample_submission.csv')\n",
    "interestRate = pd.read_csv('../data/interestRate.csv')"
   ]
  },
  {
   "cell_type": "code",
   "execution_count": 41,
   "metadata": {},
   "outputs": [],
   "source": [
    "train_data['type'] = \"train\"\n",
    "test_data['type'] = \"test\"\n",
    "df = pd.concat([train_data, test_data], axis = 0)\n",
    "df.drop(['index'], axis = 1, inplace = True)\n",
    "df = df.merge(interestRate, left_on='contract_year_month', right_on='year_month', how='left')\n",
    "df.drop(columns=['year_month'], inplace=True)"
   ]
  },
  {
   "cell_type": "code",
   "execution_count": 42,
   "metadata": {},
   "outputs": [],
   "source": [
    "def train_valid_test_split(df):\n",
    "    # 데이터 분할\n",
    "    train_data = df[df['type'] == 'train']\n",
    "    test_data = df[df['type'] == 'test']\n",
    "\n",
    "    valid_start = 202307\n",
    "    valid_end = 202312\n",
    "\n",
    "    valid_data = train_data[(train_data['contract_year_month'] >= valid_start) & (train_data['contract_year_month'] <= valid_end)]\n",
    "    train_data = train_data[~((train_data['contract_year_month'] >= valid_start) & (train_data['contract_year_month'] <= valid_end))]\n",
    "\n",
    "    return train_data, valid_data, test_data"
   ]
  },
  {
   "cell_type": "code",
   "execution_count": 43,
   "metadata": {},
   "outputs": [],
   "source": [
    "train_data, valid_data, test_data = train_valid_test_split(df)"
   ]
  },
  {
   "cell_type": "code",
   "execution_count": 44,
   "metadata": {},
   "outputs": [],
   "source": [
    "from sklearn.cluster import KMeans\n",
    "\n",
    "def create_cluster_density(train_data: pd.DataFrame, valid_data: pd.DataFrame, test_data: pd.DataFrame) -> tuple[pd.DataFrame, pd.DataFrame, pd.DataFrame]:\n",
    "    # 클러스터별 밀도 계산 (클러스터별 포인트 수)\n",
    "    cluster_density = train_data.groupby('cluster').size().reset_index(name='density')\n",
    "\n",
    "    train_data = train_data.merge(cluster_density, on='cluster', how='left')\n",
    "    valid_data = valid_data.merge(cluster_density, on='cluster', how='left')\n",
    "    test_data = test_data.merge(cluster_density, on='cluster', how='left')\n",
    "\n",
    "    return train_data, valid_data, test_data\n",
    "\n",
    "def create_cluster_distance_to_centroid(data: pd.DataFrame, centroids) -> pd.DataFrame:\n",
    "    # 포함되는 군집의 centroid와의 거리 계산\n",
    "    lat_centroids = np.array([centroids[cluster, 0] for cluster in data['cluster']])\n",
    "    lon_centroids = np.array([centroids[cluster, 1] for cluster in data['cluster']])\n",
    "    lat_diff = data['latitude'].values - lat_centroids\n",
    "    lon_diff = data['longitude'].values - lon_centroids\n",
    "    data['distance_to_centroid'] = np.sqrt(lat_diff ** 2 + lon_diff ** 2)\n",
    "    return data\n",
    "\n",
    "def create_clustering_target(train_data: pd.DataFrame, valid_data: pd.DataFrame, test_data: pd.DataFrame) -> tuple[pd.DataFrame, pd.DataFrame, pd.DataFrame]:\n",
    "    # K-means 클러스터링\n",
    "    k = 20\n",
    "    kmeans = KMeans(n_clusters=k, random_state=42)\n",
    "    train_data['cluster'] = kmeans.fit_predict(train_data[['latitude', 'longitude']])\n",
    "    valid_data['cluster'] = kmeans.predict(valid_data[['latitude', 'longitude']])\n",
    "    test_data['cluster'] = kmeans.predict(test_data[['latitude', 'longitude']])\n",
    "    \n",
    "    train_data['cluster'] = train_data['cluster'].astype('category')\n",
    "    valid_data['cluster'] = valid_data['cluster'].astype('category')\n",
    "    test_data['cluster'] = test_data['cluster'].astype('category')\n",
    "\n",
    "    # 군집 밀도 변수 추가\n",
    "    train_data, valid_data, test_data = create_cluster_density(train_data, valid_data, test_data)\n",
    "\n",
    "    centroids = kmeans.cluster_centers_\n",
    "\n",
    "    # 군집 centroid까지의 거리 변수 추가\n",
    "    train_data = create_cluster_distance_to_centroid(train_data, centroids)\n",
    "    valid_data = create_cluster_distance_to_centroid(valid_data, centroids)\n",
    "    test_data = create_cluster_distance_to_centroid(test_data, centroids)\n",
    "\n",
    "    return train_data, valid_data, test_data"
   ]
  },
  {
   "cell_type": "code",
   "execution_count": 45,
   "metadata": {},
   "outputs": [
    {
     "name": "stderr",
     "output_type": "stream",
     "text": [
      "/tmp/ipykernel_463827/12689278.py:28: SettingWithCopyWarning: \n",
      "A value is trying to be set on a copy of a slice from a DataFrame.\n",
      "Try using .loc[row_indexer,col_indexer] = value instead\n",
      "\n",
      "See the caveats in the documentation: https://pandas.pydata.org/pandas-docs/stable/user_guide/indexing.html#returning-a-view-versus-a-copy\n",
      "  test_data['cluster'] = kmeans.predict(test_data[['latitude', 'longitude']])\n",
      "/tmp/ipykernel_463827/12689278.py:32: SettingWithCopyWarning: \n",
      "A value is trying to be set on a copy of a slice from a DataFrame.\n",
      "Try using .loc[row_indexer,col_indexer] = value instead\n",
      "\n",
      "See the caveats in the documentation: https://pandas.pydata.org/pandas-docs/stable/user_guide/indexing.html#returning-a-view-versus-a-copy\n",
      "  test_data['cluster'] = test_data['cluster'].astype('category')\n",
      "/tmp/ipykernel_463827/12689278.py:5: FutureWarning: The default of observed=False is deprecated and will be changed to True in a future version of pandas. Pass observed=False to retain current behavior or observed=True to adopt the future default and silence this warning.\n",
      "  cluster_density = train_data.groupby('cluster').size().reset_index(name='density')\n"
     ]
    }
   ],
   "source": [
    "train_data, valid_data, test_data = create_clustering_target(train_data, valid_data, test_data)"
   ]
  },
  {
   "cell_type": "code",
   "execution_count": null,
   "metadata": {},
   "outputs": [],
   "source": [
    "def plot_clusters(data, title):\n",
    "    plt.figure(figsize=(8, 6))\n",
    "    scatter = plt.scatter(data['latitude'], data['longitude'], c=data['cluster'], cmap='viridis', alpha=0.6)\n",
    "    plt.title(title)\n",
    "    plt.colorbar(scatter, label='Cluster')\n",
    "    plt.grid(True)\n",
    "    plt.show()\n",
    "\n",
    "# 3. Train, Valid, Test 데이터의 클러스터링 결과 시각화\n",
    "plot_clusters(train_data, 'Train Data Clusters')\n",
    "plot_clusters(valid_data, 'Valid Data Clusters')\n",
    "plot_clusters(test_data, 'Test Data Clusters')"
   ]
  },
  {
   "cell_type": "code",
   "execution_count": null,
   "metadata": {},
   "outputs": [],
   "source": [
    "import matplotlib.pyplot as plt\n",
    "from sklearn.cluster import KMeans\n",
    "\n",
    "# 클러스터 수에 따른 SSE 계산\n",
    "sse = []\n",
    "cluster_range = range(1, 50)  # 1부터 30까지의 클러스터 수\n",
    "\n",
    "for k in cluster_range:\n",
    "    kmeans = KMeans(n_clusters=k, random_state=RANDOM_SEED)\n",
    "    kmeans.fit(train_data[['latitude', 'longitude']])  # 클러스터링할 피처 선택\n",
    "    sse.append(kmeans.inertia_)\n",
    "\n",
    "# 엘보우 그래프 그리기\n",
    "plt.figure(figsize=(10, 6))\n",
    "plt.plot(cluster_range, sse, marker='o')\n",
    "plt.title('Elbow Method for Optimal k')\n",
    "plt.xlabel('Number of Clusters')\n",
    "plt.ylabel('SSE')\n",
    "plt.xticks(cluster_range)\n",
    "plt.grid()\n",
    "plt.show()"
   ]
  },
  {
   "cell_type": "code",
   "execution_count": 46,
   "metadata": {},
   "outputs": [
    {
     "name": "stdout",
     "output_type": "stream",
     "text": [
      "   area_m2  contract_year_month  contract_day  contract_type  floor  \\\n",
      "0  84.9981               201906            25              2      9   \n",
      "1  84.9981               202003            26              2     20   \n",
      "2  84.9981               202003            28              2      8   \n",
      "3  59.3400               201907            15              2      1   \n",
      "4  59.8100               201904            12              2      6   \n",
      "\n",
      "   built_year   latitude   longitude  age  deposit   type  interest_rate  \\\n",
      "0        2019  37.054314  127.045216    0  17000.0  train           1.78   \n",
      "1        2019  37.054314  127.045216    1  23000.0  train           1.26   \n",
      "2        2019  37.054314  127.045216    1  23000.0  train           1.26   \n",
      "3        1986  36.964647  127.055847   33   5000.0  train           1.68   \n",
      "4        1995  36.972390  127.084514   24   1800.0  train           1.85   \n",
      "\n",
      "  cluster  density  distance_to_centroid  nearest_subway_distance  \n",
      "0       0    52950              0.026283                 0.007910  \n",
      "1       0    52950              0.026283                 0.007910  \n",
      "2       0    52950              0.026283                 0.007910  \n",
      "3       0    52950              0.069084                 0.039234  \n",
      "4       0    52950              0.065391                 0.018347  \n",
      "    area_m2  contract_year_month  contract_day  contract_type  floor  \\\n",
      "0  102.6654               202307             8              0      7   \n",
      "1  102.9485               202307            19              0      8   \n",
      "2  102.9485               202307            27              0     12   \n",
      "3   94.3147               202307            30              0      4   \n",
      "4   94.3147               202308            12              0      1   \n",
      "\n",
      "   built_year   latitude   longitude  age  deposit   type  interest_rate  \\\n",
      "0        2023  37.200075  126.820401    0  31000.0  train           3.69   \n",
      "1        2023  37.200075  126.820401    0  28000.0  train           3.69   \n",
      "2        2023  37.200075  126.820401    0  32000.0  train           3.69   \n",
      "3        2023  37.200075  126.820401    0  28000.0  train           3.69   \n",
      "4        2023  37.200075  126.820401    0  29000.0  train           3.66   \n",
      "\n",
      "  cluster  density  distance_to_centroid  nearest_subway_distance  \n",
      "0       8    63542              0.136083                 0.112585  \n",
      "1       8    63542              0.136083                 0.112585  \n",
      "2       8    63542              0.136083                 0.112585  \n",
      "3       8    63542              0.136083                 0.112585  \n",
      "4       8    63542              0.136083                 0.112585  \n",
      "   area_m2  contract_year_month  contract_day  contract_type  floor  \\\n",
      "0   84.961               202404            12              1     14   \n",
      "1   59.900               202404            13              0      4   \n",
      "2   39.270               202404            29              0      5   \n",
      "3   39.270               202405             3              0      1   \n",
      "4   46.980               202406             2              0      4   \n",
      "\n",
      "   built_year   latitude   longitude  age  deposit  type  interest_rate  \\\n",
      "0        2016  36.965423  127.048779    8      NaN  test           3.54   \n",
      "1        1997  36.963105  127.040678   27      NaN  test           3.54   \n",
      "2        1990  36.957089  127.047449   34      NaN  test           3.54   \n",
      "3        1990  36.957089  127.047449   34      NaN  test           3.56   \n",
      "4        1990  36.957089  127.047449   34      NaN  test            NaN   \n",
      "\n",
      "  cluster  density  distance_to_centroid  nearest_subway_distance  \n",
      "0       0    52950              0.069232                 0.044314  \n",
      "1       0    52950              0.073365                 0.052359  \n",
      "2       0    52950              0.077671                 0.050533  \n",
      "3       0    52950              0.077671                 0.050533  \n",
      "4       0    52950              0.077671                 0.050533  \n"
     ]
    }
   ],
   "source": [
    "import pandas as pd\n",
    "from sklearn.neighbors import KDTree\n",
    "\n",
    "subwayInfo = pd.read_csv(\"../data/subwayInfo.csv\")\n",
    "\n",
    "# KD-트리 생성\n",
    "subway_coords = subwayInfo[['latitude', 'longitude']].values\n",
    "tree = KDTree(subway_coords, leaf_size=10)\n",
    "\n",
    "# 거리 계산 함수 정의\n",
    "def add_nearest_subway_distance(data):\n",
    "    # 각 집의 좌표 가져오기\n",
    "    house_coords = data[['latitude', 'longitude']].values\n",
    "    # 가장 가까운 지하철 역까지의 거리 계산\n",
    "    distances, indices = tree.query(house_coords, k=1)  # k=1: 가장 가까운 역\n",
    "    # 거리를 데이터프레임에 추가 (미터 단위로 변환)\n",
    "    data['nearest_subway_distance'] = distances.flatten()\n",
    "    return data\n",
    "\n",
    "# 각 데이터셋에 대해 거리 추가\n",
    "train_data = add_nearest_subway_distance(train_data)\n",
    "valid_data = add_nearest_subway_distance(valid_data)\n",
    "test_data = add_nearest_subway_distance(test_data)\n",
    "\n",
    "# 결과 확인\n",
    "print(train_data.head())\n",
    "print(valid_data.head())\n",
    "print(test_data.head())"
   ]
  },
  {
   "cell_type": "code",
   "execution_count": 47,
   "metadata": {},
   "outputs": [
    {
     "name": "stdout",
     "output_type": "stream",
     "text": [
      "    latitude   longitude  subways_within_radius\n",
      "0  37.054314  127.045216                      1\n",
      "1  37.054314  127.045216                      1\n",
      "2  37.054314  127.045216                      1\n",
      "3  36.964647  127.055847                      0\n",
      "4  36.972390  127.084514                      0\n",
      "    latitude   longitude  subways_within_radius\n",
      "0  37.200075  126.820401                      0\n",
      "1  37.200075  126.820401                      0\n",
      "2  37.200075  126.820401                      0\n",
      "3  37.200075  126.820401                      0\n",
      "4  37.200075  126.820401                      0\n",
      "    latitude   longitude  subways_within_radius\n",
      "0  36.965423  127.048779                      0\n",
      "1  36.963105  127.040678                      0\n",
      "2  36.957089  127.047449                      0\n",
      "3  36.957089  127.047449                      0\n",
      "4  36.957089  127.047449                      0\n"
     ]
    }
   ],
   "source": [
    "import pandas as pd\n",
    "from sklearn.neighbors import KDTree\n",
    "\n",
    "# subwayInfo에는 지하철 역의 위도와 경도가 포함되어 있다고 가정\n",
    "subwayInfo = pd.read_csv(\"../data/subwayInfo.csv\")\n",
    "subway_coords = subwayInfo[['latitude', 'longitude']].values\n",
    "tree = KDTree(subway_coords, leaf_size=10)\n",
    "\n",
    "def count_subways_within_radius(data, radius):\n",
    "    counts = []  # 초기화\n",
    "    # 10,000개씩 배치로 처리\n",
    "    for i in range(0, len(data), 10000):\n",
    "        batch = data.iloc[i:i+10000]\n",
    "        house_coords = batch[['latitude', 'longitude']].values\n",
    "        # KDTree를 사용하여 주어진 반경 내 지하철역 찾기\n",
    "        indices = tree.query_radius(house_coords, r=radius)  # 반경에 대한 인덱스\n",
    "        # 각 집의 주변 지하철역 개수 세기\n",
    "        counts.extend(len(idx) for idx in indices)\n",
    "\n",
    "    # counts의 길이가 data와 동일해야 함\n",
    "    # counts가 데이터프레임 크기보다 작을 경우 0으로 채우기\n",
    "    if len(counts) < len(data):\n",
    "        counts.extend([0] * (len(data) - len(counts)))\n",
    "    \n",
    "    # 데이터프레임에 결과 추가\n",
    "    data['subways_within_radius'] = counts\n",
    "    return data\n",
    "\n",
    "# 각 데이터셋에 대해 거리 추가 (예: 반경 100미터)\n",
    "radius = 0.01  # 약 1km\n",
    "train_data = count_subways_within_radius(train_data, radius)\n",
    "valid_data = count_subways_within_radius(valid_data, radius)\n",
    "test_data = count_subways_within_radius(test_data, radius)\n",
    "\n",
    "# 결과 확인\n",
    "print(train_data[['latitude', 'longitude', 'subways_within_radius']].head())\n",
    "print(valid_data[['latitude', 'longitude', 'subways_within_radius']].head())\n",
    "print(test_data[['latitude', 'longitude', 'subways_within_radius']].head())\n"
   ]
  },
  {
   "cell_type": "code",
   "execution_count": 48,
   "metadata": {},
   "outputs": [],
   "source": [
    "from sklearn.neighbors import KDTree\n",
    "\n",
    "def create_nearest_park_distance(train_data: pd.DataFrame, valid_data: pd.DataFrame, test_data: pd.DataFrame) -> tuple[pd.DataFrame, pd.DataFrame, pd.DataFrame]:\n",
    "    park_data = pd.read_csv(\"../data/parkInfo.csv\")\n",
    "\n",
    "    seoul_area_parks = park_data[(park_data['latitude'] >= 37.0) & (park_data['latitude'] <= 38.0) &\n",
    "                                (park_data['longitude'] >= 126.0) & (park_data['longitude'] <= 128.0)]\n",
    "\n",
    "    # 수도권 공원의 좌표로 KDTree 생성\n",
    "    park_coords = seoul_area_parks[['latitude', 'longitude']].values\n",
    "    park_tree = KDTree(park_coords, leaf_size=10)\n",
    "\n",
    "    def add_nearest_park_features(data):\n",
    "        # 각 집의 좌표로 가장 가까운 공원 찾기\n",
    "        house_coords = data[['latitude', 'longitude']].values\n",
    "        distances, indices = park_tree.query(house_coords, k=1)  # 가장 가까운 공원 찾기\n",
    "\n",
    "        # 가장 가까운 공원까지의 거리 추가\n",
    "        nearest_park_distances = distances.flatten()\n",
    "\n",
    "        data['nearest_park_distance'] = nearest_park_distances\n",
    "        return data\n",
    "\n",
    "    # train, valid, test 데이터에 가장 가까운 공원 거리 및 면적 추가\n",
    "    train_data = add_nearest_park_features(train_data)\n",
    "    valid_data = add_nearest_park_features(valid_data)\n",
    "    test_data = add_nearest_park_features(test_data)\n",
    "\n",
    "    return train_data, valid_data, test_data\n",
    "\n",
    "def create_school_within_radius(train_data: pd.DataFrame, valid_data: pd.DataFrame, test_data: pd.DataFrame) -> tuple[pd.DataFrame, pd.DataFrame, pd.DataFrame]:\n",
    "    school_info = pd.read_csv(\"../data/schoolinfo.csv\")\n",
    "    seoul_area_school = school_info[(school_info['latitude'] >= 37.0) & (school_info['latitude'] <= 38.0) &\n",
    "                                (school_info['longitude'] >= 126.0) & (school_info['longitude'] <= 128.0)]\n",
    "    school_coords = seoul_area_school[['latitude', 'longitude']].values\n",
    "    tree = KDTree(school_coords, leaf_size=10)\n",
    "\n",
    "    def count_schools_within_radius(data, radius):\n",
    "        counts = []  # 학교 개수를 저장할 리스트 초기화\n",
    "        for i in range(0, len(data), 10000):  # 10,000개씩 배치로 처리\n",
    "            batch = data.iloc[i:i + 10000]\n",
    "            house_coords = batch[['latitude', 'longitude']].values\n",
    "            indices = tree.query_radius(house_coords, r=radius)  # 반경 내의 인덱스 찾기\n",
    "            counts.extend(len(idx) for idx in indices)  # 각 배치의 학교 개수 추가\n",
    "        data['schools_within_radius'] = counts  # 데이터에 추가\n",
    "        return data\n",
    "    \n",
    "    radius = 0.02 # 약 2km\n",
    "    train_data = count_schools_within_radius(train_data, radius)\n",
    "    valid_data = count_schools_within_radius(valid_data, radius)\n",
    "    test_data = count_schools_within_radius(test_data, radius)\n",
    "\n",
    "    return train_data, valid_data, test_data\n",
    "\n",
    "def create_sum_park_area_within_radius(train_data: pd.DataFrame, valid_data: pd.DataFrame, test_data: pd.DataFrame) -> tuple[pd.DataFrame, pd.DataFrame, pd.DataFrame]:\n",
    "    park_data = pd.read_csv(\"../data/parkInfo.csv\")\n",
    "\n",
    "    # 수도권 공원의 좌표 필터링\n",
    "    seoul_area_parks = park_data[(park_data['latitude'] >= 37.0) & (park_data['latitude'] <= 38.0) &\n",
    "                                  (park_data['longitude'] >= 126.0) & (park_data['longitude'] <= 128.0)]\n",
    "\n",
    "    # 수도권 공원의 좌표로 KDTree 생성\n",
    "    park_coords = seoul_area_parks[['latitude', 'longitude']].values\n",
    "    park_tree = KDTree(park_coords, leaf_size=10)\n",
    "\n",
    "    def sum_park_area_within_radius(data, radius=0.02):\n",
    "        area_sums = []  # 공원 면적 합을 저장할 리스트 초기화\n",
    "        for i in range(0, len(data), 10000):  # 10,000개씩 배치로 처리\n",
    "            batch = data.iloc[i:i + 10000]\n",
    "            house_coords = batch[['latitude', 'longitude']].values\n",
    "            indices = park_tree.query_radius(house_coords, r=radius)  # 반경 내의 인덱스 찾기\n",
    "            \n",
    "            # 각 집에 대해 반경 2km 이내의 공원 면적의 합을 계산\n",
    "            for idx in indices:\n",
    "                if idx.size > 0:  # 2km 이내에 공원이 있을 경우\n",
    "                    areas_sum = seoul_area_parks.iloc[idx]['area'].sum()\n",
    "                else:\n",
    "                    areas_sum = 0  # 공원이 없는 경우 면적 0\n",
    "                area_sums.append(areas_sum)  # 면적 합 추가\n",
    "\n",
    "        # 결과 추가\n",
    "        data['nearest_park_area_sum'] = area_sums\n",
    "        return data\n",
    "\n",
    "    # train, valid, test 데이터에 반경 1km 이내의 공원 면적 합 추가\n",
    "    train_data = sum_park_area_within_radius(train_data)\n",
    "    valid_data = sum_park_area_within_radius(valid_data)\n",
    "    test_data = sum_park_area_within_radius(test_data)\n",
    "\n",
    "    return train_data, valid_data, test_data"
   ]
  },
  {
   "cell_type": "code",
   "execution_count": 31,
   "metadata": {},
   "outputs": [],
   "source": [
    "import pandas as pd\n",
    "from sklearn.neighbors import KDTree\n",
    "\n",
    "def create_school_counts_within_radius_by_school_level(train_data: pd.DataFrame, valid_data: pd.DataFrame, test_data: pd.DataFrame) -> tuple[pd.DataFrame, pd.DataFrame, pd.DataFrame]:\n",
    "    school_info = pd.read_csv(\"../data/schoolinfo.csv\")\n",
    "    seoul_area_school = school_info[(school_info['latitude'] >= 37.0) & (school_info['latitude'] <= 38.0) &\n",
    "                                     (school_info['longitude'] >= 126.0) & (school_info['longitude'] <= 128.0)]\n",
    "    \n",
    "    # 초, 중, 고등학교의 좌표를 분리\n",
    "    elementary_schools = seoul_area_school[seoul_area_school['schoolLevel'] == 'elementary']\n",
    "    middle_schools = seoul_area_school[seoul_area_school['schoolLevel'] == 'middle']\n",
    "    high_schools = seoul_area_school[seoul_area_school['schoolLevel'] == 'high']\n",
    "\n",
    "    # 각 학교 유형의 좌표로 KDTree 생성\n",
    "    elementary_coords = elementary_schools[['latitude', 'longitude']].values\n",
    "    middle_coords = middle_schools[['latitude', 'longitude']].values\n",
    "    high_coords = high_schools[['latitude', 'longitude']].values\n",
    "\n",
    "    tree_elementary = KDTree(elementary_coords, leaf_size=10)\n",
    "    tree_middle = KDTree(middle_coords, leaf_size=10)\n",
    "    tree_high = KDTree(high_coords, leaf_size=10)\n",
    "\n",
    "    def count_schools_within_radius(data, radius):\n",
    "        counts_elementary = []  # 초등학교 개수를 저장할 리스트 초기화\n",
    "        counts_middle = []      # 중학교 개수를 저장할 리스트 초기화\n",
    "        counts_high = []        # 고등학교 개수를 저장할 리스트 초기화\n",
    "\n",
    "        for i in range(0, len(data), 10000):  # 10,000개씩 배치로 처리\n",
    "            batch = data.iloc[i:i + 10000]\n",
    "            house_coords = batch[['latitude', 'longitude']].values\n",
    "            \n",
    "            # 각 학교 유형의 개수 세기\n",
    "            indices_elementary = tree_elementary.query_radius(house_coords, r=radius)\n",
    "            indices_middle = tree_middle.query_radius(house_coords, r=radius)\n",
    "            indices_high = tree_high.query_radius(house_coords, r=radius)\n",
    "            \n",
    "            counts_elementary.extend(len(idx) for idx in indices_elementary)  # 각 배치의 초등학교 개수 추가\n",
    "            counts_middle.extend(len(idx) for idx in indices_middle)        # 각 배치의 중학교 개수 추가\n",
    "            counts_high.extend(len(idx) for idx in indices_high)            # 각 배치의 고등학교 개수 추가\n",
    "\n",
    "        # 데이터에 추가\n",
    "        data['elementary_schools_within_radius'] = counts_elementary\n",
    "        data['middle_schools_within_radius'] = counts_middle\n",
    "        data['high_schools_within_radius'] = counts_high\n",
    "        \n",
    "        return data\n",
    "\n",
    "    radius = 0.02  # 약 2km\n",
    "    train_data = count_schools_within_radius(train_data, radius)\n",
    "    valid_data = count_schools_within_radius(valid_data, radius)\n",
    "    test_data = count_schools_within_radius(test_data, radius)\n",
    "\n",
    "    return train_data, valid_data, test_data\n"
   ]
  },
  {
   "cell_type": "code",
   "execution_count": 54,
   "metadata": {},
   "outputs": [],
   "source": [
    "train_data, valid_data, test_data = create_nearest_park_distance(train_data, valid_data, test_data)\n",
    "train_data, valid_data, test_data = create_school_within_radius(train_data, valid_data, test_data)\n",
    "train_data, valid_data, test_data = create_sum_park_area_within_radius(train_data, valid_data, test_data)\n",
    "train_data, valid_data, test_data = create_school_counts_within_radius_by_school_level(train_data, valid_data, test_data)"
   ]
  },
  {
   "cell_type": "code",
   "execution_count": 55,
   "metadata": {},
   "outputs": [],
   "source": [
    "train_data = train_data.drop(columns=['type'])\n",
    "valid_data = valid_data.drop(columns=['type'])\n",
    "test_data = test_data.drop(columns=['type'])"
   ]
  },
  {
   "cell_type": "code",
   "execution_count": 56,
   "metadata": {},
   "outputs": [],
   "source": [
    "def split_feature_target(train_data_scaled, valid_data_scaled, test_data_scaled):\n",
    "    X_train = train_data_scaled.drop(columns=['deposit'])\n",
    "    y_train = train_data_scaled['deposit']\n",
    "    X_valid = valid_data_scaled.drop(columns=['deposit'])\n",
    "    y_valid = valid_data_scaled['deposit']\n",
    "    X_test = test_data_scaled.drop(columns=['deposit'])\n",
    "    \n",
    "    return X_train, y_train, X_valid, y_valid, X_test"
   ]
  },
  {
   "cell_type": "code",
   "execution_count": 57,
   "metadata": {},
   "outputs": [],
   "source": [
    "import xgboost as xgb\n",
    "\n",
    "def xgboost(X, y):\n",
    "    xgb_model = xgb.XGBRegressor(learning_rate=0.3, n_estimators=1000, enable_categorical=True, random_state=42)\n",
    "    xgb_model.fit(X, y)\n",
    "    return xgb_model"
   ]
  },
  {
   "cell_type": "code",
   "execution_count": 58,
   "metadata": {},
   "outputs": [],
   "source": [
    "from sklearn.metrics import mean_squared_error, mean_absolute_error\n",
    "\n",
    "def inference(model, type, X, y=None):\n",
    "    if type=='validation':\n",
    "        prediction = model.predict(X)\n",
    "        mae = mean_absolute_error(y, prediction)\n",
    "        return prediction, mae"
   ]
  },
  {
   "cell_type": "code",
   "execution_count": 59,
   "metadata": {},
   "outputs": [
    {
     "name": "stdout",
     "output_type": "stream",
     "text": [
      "4465.851769504261\n"
     ]
    }
   ],
   "source": [
    "X_train, y_train, X_valid, y_valid, X_test = split_feature_target(train_data, valid_data, test_data)\n",
    "\n",
    "model = xgboost(X_train, y_train)\n",
    "prediction, mae = inference(model, 'validation', X_valid, y_valid)\n",
    "print(mae)"
   ]
  },
  {
   "cell_type": "code",
   "execution_count": 19,
   "metadata": {},
   "outputs": [
    {
     "data": {
      "image/png": "[encoded data removed]",
      "text/plain": [
       "<Figure size 1000x600 with 1 Axes>"
      ]
     },
     "metadata": {},
     "output_type": "display_data"
    }
   ],
   "source": [
    "# 피처 중요도 얻기\n",
    "importance = model.feature_importances_\n",
    "\n",
    "# 피처 중요도 시각화\n",
    "plt.figure(figsize=(10, 6))\n",
    "plt.barh(X_train.columns, importance)\n",
    "plt.xlabel('Importance')\n",
    "plt.title('Feature Importance')\n",
    "plt.show()"
   ]
  },
  {
   "cell_type": "code",
   "execution_count": null,
   "metadata": {},
   "outputs": [],
   "source": []
  }
 ],
 "metadata": {
  "kernelspec": {
   "display_name": "myenv",
   "language": "python",
   "name": "python3"
  },
  "language_info": {
   "codemirror_mode": {
    "name": "ipython",
    "version": 3
   },
   "file_extension": ".py",
   "mimetype": "text/x-python",
   "name": "python",
   "nbconvert_exporter": "python",
   "pygments_lexer": "ipython3",
   "version": "3.11.10"
  }
 },
 "nbformat": 4,
 "nbformat_minor": 2
}
